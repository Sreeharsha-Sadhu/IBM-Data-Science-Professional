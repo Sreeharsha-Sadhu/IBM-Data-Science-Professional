{
 "cells": [
  {
   "metadata": {},
   "cell_type": "markdown",
   "source": "# Data Science Tools and Ecosystem",
   "id": "f5123b586eb6add2"
  },
  {
   "metadata": {},
   "cell_type": "markdown",
   "source": [
    "## Author\n",
    "Sreeharsha Sadhu"
   ],
   "id": "787e03260b902f27"
  },
  {
   "metadata": {},
   "cell_type": "markdown",
   "source": "### In this notebook, Data Science Tools and Ecosystem are summarized.\n",
   "id": "12ea9a345cb94214"
  },
  {
   "metadata": {},
   "cell_type": "markdown",
   "source": [
    "**Objectives:**\n",
    "- List the popular languages used in Data Science\n",
    "- List the popular libraries used in Data Science\n",
    "- List the popular tools used in Data Science\n",
    "- Evaluate arithmetic expressions in Python"
   ],
   "id": "87e70012221c4154"
  },
  {
   "metadata": {},
   "cell_type": "markdown",
   "source": [
    "Some of rhe popular languages that Data Scientists use are:\n",
    "1. Python\n",
    "2. R\n",
    "3. Scala\n",
    "4. SQL"
   ],
   "id": "fb37dd8e3f5ef585"
  },
  {
   "metadata": {},
   "cell_type": "markdown",
   "source": [
    "Some of the popular libraries that Data Scientists use are:\n",
    "1. Numpy\n",
    "2. Pandas\n",
    "3. Matplotlib\n",
    "4. Seaborn\n",
    "5. ggplot\n",
    "6. Plotly"
   ],
   "id": "63ec24b247ce6f77"
  },
  {
   "metadata": {},
   "cell_type": "markdown",
   "source": [
    "| Data Science Tools |\n",
    "|--------------------|\n",
    "| Jupyter Notebook   |\n",
    "| RStudio            |\n",
    "| PyCharm            |\n",
    "| Visual Studio Code |"
   ],
   "id": "3db3ce86f4b80044"
  },
  {
   "metadata": {},
   "cell_type": "markdown",
   "source": "### Below are a few examples of evaluating arithmetic expressions in Python",
   "id": "abc06e0df10f818c"
  },
  {
   "metadata": {
    "ExecuteTime": {
     "end_time": "2024-09-05T14:01:28.166829Z",
     "start_time": "2024-09-05T14:01:28.160031Z"
    }
   },
   "cell_type": "code",
   "source": [
    "# Arithmetic Expression to add a number to the product of 2 numbers\n",
    "\n",
    "(3 * 4) + 5"
   ],
   "id": "b10a0c7a61acc5d6",
   "outputs": [
    {
     "data": {
      "text/plain": [
       "17"
      ]
     },
     "execution_count": 1,
     "metadata": {},
     "output_type": "execute_result"
    }
   ],
   "execution_count": 1
  },
  {
   "metadata": {
    "ExecuteTime": {
     "end_time": "2024-09-05T16:02:11.436870Z",
     "start_time": "2024-09-05T16:02:11.433903Z"
    }
   },
   "cell_type": "code",
   "source": [
    "#  This will convert 200 minutes to hours by diving by 60\n",
    "\n",
    "print(f'{200//60} hours: {200%60} minutes')"
   ],
   "id": "34f2ce2dfea54b04",
   "outputs": [
    {
     "name": "stdout",
     "output_type": "stream",
     "text": [
      "3 hours: 20 minutes\n"
     ]
    }
   ],
   "execution_count": 3
  }
 ],
 "metadata": {
  "kernelspec": {
   "display_name": "Python 3",
   "language": "python",
   "name": "python3"
  },
  "language_info": {
   "codemirror_mode": {
    "name": "ipython",
    "version": 2
   },
   "file_extension": ".py",
   "mimetype": "text/x-python",
   "name": "python",
   "nbconvert_exporter": "python",
   "pygments_lexer": "ipython2",
   "version": "2.7.6"
  }
 },
 "nbformat": 4,
 "nbformat_minor": 5
}
